{
  "nbformat": 4,
  "nbformat_minor": 0,
  "metadata": {
    "colab": {
      "provenance": [],
      "authorship_tag": "ABX9TyOA/SVfeWOHHwS+oDBb7lWt",
      "include_colab_link": true
    },
    "kernelspec": {
      "name": "python3",
      "display_name": "Python 3"
    },
    "language_info": {
      "name": "python"
    }
  },
  "cells": [
    {
      "cell_type": "markdown",
      "metadata": {
        "id": "view-in-github",
        "colab_type": "text"
      },
      "source": [
        "<a href=\"https://colab.research.google.com/github/Emio-eng/web-scraper/blob/main/Raspagem_de_dados.ipynb\" target=\"_parent\"><img src=\"https://colab.research.google.com/assets/colab-badge.svg\" alt=\"Open In Colab\"/></a>"
      ]
    },
    {
      "cell_type": "markdown",
      "source": [
        "##Primeiro passo: Definir o que você quer extrair: Informações sobre Hostel's"
      ],
      "metadata": {
        "id": "q-b8OnFOWNyC"
      }
    },
    {
      "cell_type": "markdown",
      "source": [
        "Aqui iremos extrair:\n",
        "\n",
        "Nome do hostel\n",
        "\n",
        "Link para a página do hostel\n",
        "\n",
        "Distância do hostel até o centro da cidade\n",
        "\n",
        "Nota média de avaliação\n",
        "\n",
        "Número de avalições feitas para aquele local\n",
        "\n",
        "Preço médio por noite, em USD"
      ],
      "metadata": {
        "id": "nS07zhqfh3tT"
      }
    },
    {
      "cell_type": "markdown",
      "source": [
        "##Instalando bibliotecas que serão usadas"
      ],
      "metadata": {
        "id": "Q1cL1lvNk7zo"
      }
    },
    {
      "cell_type": "code",
      "source": [
        " !pip install requests\n",
        " !pip install beautifulsoup4"
      ],
      "metadata": {
        "id": "fJDOJJUWk_QS"
      },
      "execution_count": null,
      "outputs": []
    },
    {
      "cell_type": "code",
      "execution_count": null,
      "metadata": {
        "id": "c7ykiNiEUsVr",
        "colab": {
          "base_uri": "https://localhost:8080/"
        },
        "outputId": "0597f2b4-3b40-47a9-f93d-888213c59313"
      },
      "outputs": [
        {
          "output_type": "execute_result",
          "data": {
            "text/plain": [
              "30"
            ]
          },
          "metadata": {},
          "execution_count": 8
        }
      ],
      "source": [
        "from requests import get\n",
        "## O BeautifulSoup precisa ter o módulo bs4 chamado, pois os módulos anteriores foram encerrados.\n",
        "from bs4 import BeautifulSoup\n",
        "\n",
        "import pandas as pd\n",
        "import numpy as np\n",
        "\n",
        "import time\n",
        "import re\n",
        "\n",
        "url = 'https://www.hostelworld.com/hostels/Berlin'\n",
        "response = get(url)\n",
        "\n",
        "# criando soup\n",
        "soup = BeautifulSoup(response.text, 'html.parser')\n",
        "# Aqui estamos formatando as informações que vão ficar do get(url) acima\n",
        "\n",
        "# criação de containers individuais, em cada um há informações sobre um hostel.\n",
        "holstel_containers= soup.findAll(class_= 'fabresult rounded clearfix hwta-property')\n",
        "\n",
        "# quantos hostels na página\n",
        "len(holstel_containers)"
      ]
    },
    {
      "cell_type": "markdown",
      "source": [
        "##Separar um hostel para descobrir os atributos de acesso necessários"
      ],
      "metadata": {
        "id": "PAdVVB-aa8gB"
      }
    },
    {
      "cell_type": "markdown",
      "source": [
        "Todos os contêineres contém a mesma estrutura, e o que muda, logicamente, é a informação armazenada dentro de cada um. Para facilitar a análise, iremos criar um objeto apenas com a informação do primeiro hostel, e depois iremos explorar esse container para descobrir onde estão os dados que desejamos. No exemplo abaixo, temos o código que detém as informações do Hostel."
      ],
      "metadata": {
        "id": "0nGKrvWBbCHz"
      }
    },
    {
      "cell_type": "markdown",
      "source": [
        "![Screenshot_2.png](data:image/png;base64,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)"
      ],
      "metadata": {
        "id": "0HF6Q2GmmnX7"
      }
    },
    {
      "cell_type": "markdown",
      "source": [
        "Para agilizar o processo, tirei print do corpo HTML que cita o nome do primeiro hostel catalogado no site; e abaixo na célula do código, podemos ver que a raspagem está funcionando corretamente"
      ],
      "metadata": {
        "id": "veUrjoLRjmf3"
      }
    },
    {
      "cell_type": "markdown",
      "source": [
        "![Screenshot_1.png](data:image/png;base64,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)"
      ],
      "metadata": {
        "id": "8w8Cm15fjDI3"
      }
    },
    {
      "cell_type": "code",
      "source": [
        "first_hostel = holstel_containers[0]\n",
        "\n",
        "# Nome do Hostel\n",
        "first_hostel.h2.a.text"
      ],
      "metadata": {
        "id": "4OlUnzHca-Bx",
        "colab": {
          "base_uri": "https://localhost:8080/",
          "height": 36
        },
        "outputId": "d17a20a3-a15e-40a1-e3c2-c49044a94d67"
      },
      "execution_count": null,
      "outputs": [
        {
          "output_type": "execute_result",
          "data": {
            "text/plain": [
              "\"St Christopher's Berlin Mitte\""
            ],
            "application/vnd.google.colaboratory.intrinsic+json": {
              "type": "string"
            }
          },
          "metadata": {},
          "execution_count": 9
        }
      ]
    },
    {
      "cell_type": "markdown",
      "source": [
        "Acessei o primeiro header ‘h2’, depois selecionei a tag ‘a’, e então extraí apenas o texto."
      ],
      "metadata": {
        "id": "UA9EIObZbuUf"
      }
    },
    {
      "cell_type": "code",
      "source": [
        "print(first_hostel.prettify())\n",
        "# Aqui teremos todo o código html do primeiro hotel"
      ],
      "metadata": {
        "id": "38-rwq1UbUAa"
      },
      "execution_count": null,
      "outputs": []
    },
    {
      "cell_type": "markdown",
      "source": [
        "##Como fazer com todos os 30 hostels?"
      ],
      "metadata": {
        "id": "BOKNYZ_gcxLv"
      }
    },
    {
      "cell_type": "markdown",
      "source": [
        "Daí foi só ver quantas páginas com opções de hostel haviam disponíveis, nesse caso eram 2. A solução pensada foi criar dois for loops, um para entrar em cada página e separar cada hostel em um contêiner, e outro para retirar de cada contêiner os dados, para então armazenar o resultado em listas."
      ],
      "metadata": {
        "id": "YKPctZ8ygNHQ"
      }
    },
    {
      "cell_type": "code",
      "source": [
        "# primeiro, crie as listas vazias\n",
        "hostel_names= []\n",
        "hostel_links= []\n",
        "hostel_distance= []\n",
        "hostel_ratings= []\n",
        "hostel_reviews= []\n",
        "hostel_prices= []\n",
        "\n",
        "for page in np.arange(1,4): # para iterar nas páginas e criar os contêineres\n",
        "  url = 'https://www.hostelworld.com/hostels/Berlin?page=' + str(page)\n",
        "  response = get(url)\n",
        "  soup = BeautifulSoup(response.text, 'html.parser')\n",
        "  holstel_containers= soup.findAll(class_= 'fabresult rounded clearfix hwta-property')\n",
        "\n",
        "  for item in range(len(holstel_containers)): # para iterar sobre os resultados em cada página\n",
        "    hostel_names.append(holstel_containers[item].h2.a.text) ##nome do hostel\n",
        "    hostel_links.append(holstel_containers[item].h2.a.get('href')) ##link do hostel\n",
        "    hostel_distance.append(holstel_containers[item].find(class_= \"addressline\").text[12:18].replace('k','').replace('m','').strip()) ##distancia do hostel\n",
        "    hostel_ratings.append(holstel_containers[item].find(class_='hwta-rating-score').text.replace('\\n', '').strip()) ## nota média de avaliação\n",
        "    hostel_reviews.append(holstel_containers[item].find(class_=\"hwta-rating-counter\").text.replace('\\n', '').strip()) ## Número de avalições feitas para aquele local\n",
        "    hostel_prices.append(holstel_containers[item].find(class_= \"price\").text.replace('\\n', '').strip()[3:]) ## Preço médio por noite, em USD\n",
        "  time.sleep(2) # isso é usado para não forçar muito no site, para não acharem que foi um ataque"
      ],
      "metadata": {
        "id": "nCz7vnayc-Au"
      },
      "execution_count": null,
      "outputs": []
    },
    {
      "cell_type": "markdown",
      "source": [
        "Os comandos mais importantes para se entender inicialmente são findAll(), find() e get(). É com eles que você vai conseguir extrair quase tudo em um projeto de raspagem de dados;"
      ],
      "metadata": {
        "id": "cx1hEam-gfgY"
      }
    },
    {
      "cell_type": "markdown",
      "source": [
        "strip() e replace() foram utilizados. Fiz isso para conseguir retirar letras e espaços indesejados. Usar várias técnicas de pré processamento é recomendado para deixar os dados fáceis de se manusear.\n",
        "O strip() foi utilizado para retirar os espaços em branco no começo e no final dos valores. Já o replace() foi utilizado para remover letras"
      ],
      "metadata": {
        "id": "TvPbxnoBgtqQ"
      }
    },
    {
      "cell_type": "markdown",
      "source": [
        "##Hora de criar a tabela"
      ],
      "metadata": {
        "id": "O7gb1lo5dLrb"
      }
    },
    {
      "cell_type": "code",
      "source": [
        "hw_berlin = pd.DataFrame({\n",
        "    'hostel_name': hostel_names,\n",
        "    'distance_centre_km': hostel_distance,\n",
        "    'average_rating': hostel_ratings,\n",
        "    'number_reviews': hostel_reviews,\n",
        "    'average_price_usd': hostel_prices,\n",
        "    'hw_link': hostel_links\n",
        "})"
      ],
      "metadata": {
        "id": "d0KcK9DddPbt"
      },
      "execution_count": null,
      "outputs": []
    },
    {
      "cell_type": "markdown",
      "source": [
        "##Mostrando as 5 primeiras entradas do dataframe"
      ],
      "metadata": {
        "id": "OsEiv8Qpd3Ax"
      }
    },
    {
      "cell_type": "code",
      "source": [
        "hw_berlin.head()"
      ],
      "metadata": {
        "colab": {
          "base_uri": "https://localhost:8080/",
          "height": 206
        },
        "id": "MBDn2g7WePxM",
        "outputId": "8d055bcc-aeae-4eb4-f732-0efc2648dcf5"
      },
      "execution_count": null,
      "outputs": [
        {
          "output_type": "execute_result",
          "data": {
            "text/plain": [
              "                             hostel_name distance_centre_km average_rating  \\\n",
              "0                           Lettem Sleep                2.4            7.0   \n",
              "1                        BIG MAMA Berlin                4.5            8.3   \n",
              "2                 Metropol Hostel Berlin                3.5            6.4   \n",
              "3                     Nena Hostel Berlin               5 fr            7.8   \n",
              "4  Eastern & Western Comfort Hostelboats                3.2            8.7   \n",
              "\n",
              "  number_reviews average_price_usd  \\\n",
              "0           1278             14.80   \n",
              "1             54             24.96   \n",
              "2           1295             19.44   \n",
              "3             30             22.69   \n",
              "4           1060             16.15   \n",
              "\n",
              "                                             hw_link  \n",
              "0  https://www.hostelworld.com/hosteldetails.php/...  \n",
              "1  https://www.hostelworld.com/hosteldetails.php/...  \n",
              "2  https://www.hostelworld.com/hosteldetails.php/...  \n",
              "3  https://www.hostelworld.com/hosteldetails.php/...  \n",
              "4  https://www.hostelworld.com/hosteldetails.php/...  "
            ],
            "text/html": [
              "\n",
              "  <div id=\"df-8325392a-fa1c-48d4-9fd9-44a43cb494b6\">\n",
              "    <div class=\"colab-df-container\">\n",
              "      <div>\n",
              "<style scoped>\n",
              "    .dataframe tbody tr th:only-of-type {\n",
              "        vertical-align: middle;\n",
              "    }\n",
              "\n",
              "    .dataframe tbody tr th {\n",
              "        vertical-align: top;\n",
              "    }\n",
              "\n",
              "    .dataframe thead th {\n",
              "        text-align: right;\n",
              "    }\n",
              "</style>\n",
              "<table border=\"1\" class=\"dataframe\">\n",
              "  <thead>\n",
              "    <tr style=\"text-align: right;\">\n",
              "      <th></th>\n",
              "      <th>hostel_name</th>\n",
              "      <th>distance_centre_km</th>\n",
              "      <th>average_rating</th>\n",
              "      <th>number_reviews</th>\n",
              "      <th>average_price_usd</th>\n",
              "      <th>hw_link</th>\n",
              "    </tr>\n",
              "  </thead>\n",
              "  <tbody>\n",
              "    <tr>\n",
              "      <th>0</th>\n",
              "      <td>Lettem Sleep</td>\n",
              "      <td>2.4</td>\n",
              "      <td>7.0</td>\n",
              "      <td>1278</td>\n",
              "      <td>14.80</td>\n",
              "      <td>https://www.hostelworld.com/hosteldetails.php/...</td>\n",
              "    </tr>\n",
              "    <tr>\n",
              "      <th>1</th>\n",
              "      <td>BIG MAMA Berlin</td>\n",
              "      <td>4.5</td>\n",
              "      <td>8.3</td>\n",
              "      <td>54</td>\n",
              "      <td>24.96</td>\n",
              "      <td>https://www.hostelworld.com/hosteldetails.php/...</td>\n",
              "    </tr>\n",
              "    <tr>\n",
              "      <th>2</th>\n",
              "      <td>Metropol Hostel Berlin</td>\n",
              "      <td>3.5</td>\n",
              "      <td>6.4</td>\n",
              "      <td>1295</td>\n",
              "      <td>19.44</td>\n",
              "      <td>https://www.hostelworld.com/hosteldetails.php/...</td>\n",
              "    </tr>\n",
              "    <tr>\n",
              "      <th>3</th>\n",
              "      <td>Nena Hostel Berlin</td>\n",
              "      <td>5 fr</td>\n",
              "      <td>7.8</td>\n",
              "      <td>30</td>\n",
              "      <td>22.69</td>\n",
              "      <td>https://www.hostelworld.com/hosteldetails.php/...</td>\n",
              "    </tr>\n",
              "    <tr>\n",
              "      <th>4</th>\n",
              "      <td>Eastern &amp; Western Comfort Hostelboats</td>\n",
              "      <td>3.2</td>\n",
              "      <td>8.7</td>\n",
              "      <td>1060</td>\n",
              "      <td>16.15</td>\n",
              "      <td>https://www.hostelworld.com/hosteldetails.php/...</td>\n",
              "    </tr>\n",
              "  </tbody>\n",
              "</table>\n",
              "</div>\n",
              "      <button class=\"colab-df-convert\" onclick=\"convertToInteractive('df-8325392a-fa1c-48d4-9fd9-44a43cb494b6')\"\n",
              "              title=\"Convert this dataframe to an interactive table.\"\n",
              "              style=\"display:none;\">\n",
              "        \n",
              "  <svg xmlns=\"http://www.w3.org/2000/svg\" height=\"24px\"viewBox=\"0 0 24 24\"\n",
              "       width=\"24px\">\n",
              "    <path d=\"M0 0h24v24H0V0z\" fill=\"none\"/>\n",
              "    <path d=\"M18.56 5.44l.94 2.06.94-2.06 2.06-.94-2.06-.94-.94-2.06-.94 2.06-2.06.94zm-11 1L8.5 8.5l.94-2.06 2.06-.94-2.06-.94L8.5 2.5l-.94 2.06-2.06.94zm10 10l.94 2.06.94-2.06 2.06-.94-2.06-.94-.94-2.06-.94 2.06-2.06.94z\"/><path d=\"M17.41 7.96l-1.37-1.37c-.4-.4-.92-.59-1.43-.59-.52 0-1.04.2-1.43.59L10.3 9.45l-7.72 7.72c-.78.78-.78 2.05 0 2.83L4 21.41c.39.39.9.59 1.41.59.51 0 1.02-.2 1.41-.59l7.78-7.78 2.81-2.81c.8-.78.8-2.07 0-2.86zM5.41 20L4 18.59l7.72-7.72 1.47 1.35L5.41 20z\"/>\n",
              "  </svg>\n",
              "      </button>\n",
              "      \n",
              "  <style>\n",
              "    .colab-df-container {\n",
              "      display:flex;\n",
              "      flex-wrap:wrap;\n",
              "      gap: 12px;\n",
              "    }\n",
              "\n",
              "    .colab-df-convert {\n",
              "      background-color: #E8F0FE;\n",
              "      border: none;\n",
              "      border-radius: 50%;\n",
              "      cursor: pointer;\n",
              "      display: none;\n",
              "      fill: #1967D2;\n",
              "      height: 32px;\n",
              "      padding: 0 0 0 0;\n",
              "      width: 32px;\n",
              "    }\n",
              "\n",
              "    .colab-df-convert:hover {\n",
              "      background-color: #E2EBFA;\n",
              "      box-shadow: 0px 1px 2px rgba(60, 64, 67, 0.3), 0px 1px 3px 1px rgba(60, 64, 67, 0.15);\n",
              "      fill: #174EA6;\n",
              "    }\n",
              "\n",
              "    [theme=dark] .colab-df-convert {\n",
              "      background-color: #3B4455;\n",
              "      fill: #D2E3FC;\n",
              "    }\n",
              "\n",
              "    [theme=dark] .colab-df-convert:hover {\n",
              "      background-color: #434B5C;\n",
              "      box-shadow: 0px 1px 3px 1px rgba(0, 0, 0, 0.15);\n",
              "      filter: drop-shadow(0px 1px 2px rgba(0, 0, 0, 0.3));\n",
              "      fill: #FFFFFF;\n",
              "    }\n",
              "  </style>\n",
              "\n",
              "      <script>\n",
              "        const buttonEl =\n",
              "          document.querySelector('#df-8325392a-fa1c-48d4-9fd9-44a43cb494b6 button.colab-df-convert');\n",
              "        buttonEl.style.display =\n",
              "          google.colab.kernel.accessAllowed ? 'block' : 'none';\n",
              "\n",
              "        async function convertToInteractive(key) {\n",
              "          const element = document.querySelector('#df-8325392a-fa1c-48d4-9fd9-44a43cb494b6');\n",
              "          const dataTable =\n",
              "            await google.colab.kernel.invokeFunction('convertToInteractive',\n",
              "                                                     [key], {});\n",
              "          if (!dataTable) return;\n",
              "\n",
              "          const docLinkHtml = 'Like what you see? Visit the ' +\n",
              "            '<a target=\"_blank\" href=https://colab.research.google.com/notebooks/data_table.ipynb>data table notebook</a>'\n",
              "            + ' to learn more about interactive tables.';\n",
              "          element.innerHTML = '';\n",
              "          dataTable['output_type'] = 'display_data';\n",
              "          await google.colab.output.renderOutput(dataTable, element);\n",
              "          const docLink = document.createElement('div');\n",
              "          docLink.innerHTML = docLinkHtml;\n",
              "          element.appendChild(docLink);\n",
              "        }\n",
              "      </script>\n",
              "    </div>\n",
              "  </div>\n",
              "  "
            ]
          },
          "metadata": {},
          "execution_count": 13
        }
      ]
    },
    {
      "cell_type": "markdown",
      "source": [
        "O distance_centre_km na linha 3 está contando com as letras 'fr', onde deveria ser apenas um número"
      ],
      "metadata": {
        "id": "OU94jGGkeTB2"
      }
    },
    {
      "cell_type": "markdown",
      "source": [
        "##Podemos tratar isso com um REGEX!\n",
        "\n",
        "\n"
      ],
      "metadata": {
        "id": "YdoZgantef6E"
      }
    },
    {
      "cell_type": "markdown",
      "source": [
        "A palavra vem de Regular Expressions, e é uma ferramenta extremamente poderosa para filtrar texto a partir de padrões pré definidos e altamente customizáveis. Mas as expressões são difíceis, e é demorado até se aprender totalmente"
      ],
      "metadata": {
        "id": "l6HhbcUWenMw"
      }
    },
    {
      "cell_type": "markdown",
      "source": [
        "Nessa tratativa vamos usar a função sub(), que é uma função para substituir.\n",
        "Vamos criar uma compreensão de lista que retorna todas as linhas da coluna distance_centre_km.\n",
        "A cada linha que retornar usaremos a expressão regular '[^ 0-9]', que irá excluir tudo que não seja número ou ponto."
      ],
      "metadata": {
        "id": "HUNMaFvSfD99"
      }
    },
    {
      "cell_type": "code",
      "source": [
        "# removendo caractere não numérico na coluna distance_centre_km\n",
        "\n",
        "hw_berlin.distance_centre_km = [re.sub('[^0-9.]','', x) for x in hw_berlin.distance_centre_km]"
      ],
      "metadata": {
        "id": "rEtjVdB7fmke"
      },
      "execution_count": null,
      "outputs": []
    },
    {
      "cell_type": "markdown",
      "source": [
        "##Testando novamente as 5 primeiras entradas após a aplicação do REGEX"
      ],
      "metadata": {
        "id": "zrktRqu2j9si"
      }
    },
    {
      "cell_type": "code",
      "source": [
        "hw_berlin.head()"
      ],
      "metadata": {
        "id": "yVGgRKfIkEu8",
        "colab": {
          "base_uri": "https://localhost:8080/",
          "height": 206
        },
        "outputId": "421953b3-581c-4b5c-9927-146b4bca1bce"
      },
      "execution_count": null,
      "outputs": [
        {
          "output_type": "execute_result",
          "data": {
            "text/plain": [
              "                             hostel_name distance_centre_km average_rating  \\\n",
              "0                           Lettem Sleep                2.4            7.0   \n",
              "1                        BIG MAMA Berlin                4.5            8.3   \n",
              "2                 Metropol Hostel Berlin                3.5            6.4   \n",
              "3                     Nena Hostel Berlin                  5            7.8   \n",
              "4  Eastern & Western Comfort Hostelboats                3.2            8.7   \n",
              "\n",
              "  number_reviews average_price_usd  \\\n",
              "0           1278             14.80   \n",
              "1             54             24.96   \n",
              "2           1295             19.44   \n",
              "3             30             22.69   \n",
              "4           1060             16.15   \n",
              "\n",
              "                                             hw_link  \n",
              "0  https://www.hostelworld.com/hosteldetails.php/...  \n",
              "1  https://www.hostelworld.com/hosteldetails.php/...  \n",
              "2  https://www.hostelworld.com/hosteldetails.php/...  \n",
              "3  https://www.hostelworld.com/hosteldetails.php/...  \n",
              "4  https://www.hostelworld.com/hosteldetails.php/...  "
            ],
            "text/html": [
              "\n",
              "  <div id=\"df-b9d12229-5f6f-4002-a0ea-4e5f777be866\">\n",
              "    <div class=\"colab-df-container\">\n",
              "      <div>\n",
              "<style scoped>\n",
              "    .dataframe tbody tr th:only-of-type {\n",
              "        vertical-align: middle;\n",
              "    }\n",
              "\n",
              "    .dataframe tbody tr th {\n",
              "        vertical-align: top;\n",
              "    }\n",
              "\n",
              "    .dataframe thead th {\n",
              "        text-align: right;\n",
              "    }\n",
              "</style>\n",
              "<table border=\"1\" class=\"dataframe\">\n",
              "  <thead>\n",
              "    <tr style=\"text-align: right;\">\n",
              "      <th></th>\n",
              "      <th>hostel_name</th>\n",
              "      <th>distance_centre_km</th>\n",
              "      <th>average_rating</th>\n",
              "      <th>number_reviews</th>\n",
              "      <th>average_price_usd</th>\n",
              "      <th>hw_link</th>\n",
              "    </tr>\n",
              "  </thead>\n",
              "  <tbody>\n",
              "    <tr>\n",
              "      <th>0</th>\n",
              "      <td>Lettem Sleep</td>\n",
              "      <td>2.4</td>\n",
              "      <td>7.0</td>\n",
              "      <td>1278</td>\n",
              "      <td>14.80</td>\n",
              "      <td>https://www.hostelworld.com/hosteldetails.php/...</td>\n",
              "    </tr>\n",
              "    <tr>\n",
              "      <th>1</th>\n",
              "      <td>BIG MAMA Berlin</td>\n",
              "      <td>4.5</td>\n",
              "      <td>8.3</td>\n",
              "      <td>54</td>\n",
              "      <td>24.96</td>\n",
              "      <td>https://www.hostelworld.com/hosteldetails.php/...</td>\n",
              "    </tr>\n",
              "    <tr>\n",
              "      <th>2</th>\n",
              "      <td>Metropol Hostel Berlin</td>\n",
              "      <td>3.5</td>\n",
              "      <td>6.4</td>\n",
              "      <td>1295</td>\n",
              "      <td>19.44</td>\n",
              "      <td>https://www.hostelworld.com/hosteldetails.php/...</td>\n",
              "    </tr>\n",
              "    <tr>\n",
              "      <th>3</th>\n",
              "      <td>Nena Hostel Berlin</td>\n",
              "      <td>5</td>\n",
              "      <td>7.8</td>\n",
              "      <td>30</td>\n",
              "      <td>22.69</td>\n",
              "      <td>https://www.hostelworld.com/hosteldetails.php/...</td>\n",
              "    </tr>\n",
              "    <tr>\n",
              "      <th>4</th>\n",
              "      <td>Eastern &amp; Western Comfort Hostelboats</td>\n",
              "      <td>3.2</td>\n",
              "      <td>8.7</td>\n",
              "      <td>1060</td>\n",
              "      <td>16.15</td>\n",
              "      <td>https://www.hostelworld.com/hosteldetails.php/...</td>\n",
              "    </tr>\n",
              "  </tbody>\n",
              "</table>\n",
              "</div>\n",
              "      <button class=\"colab-df-convert\" onclick=\"convertToInteractive('df-b9d12229-5f6f-4002-a0ea-4e5f777be866')\"\n",
              "              title=\"Convert this dataframe to an interactive table.\"\n",
              "              style=\"display:none;\">\n",
              "        \n",
              "  <svg xmlns=\"http://www.w3.org/2000/svg\" height=\"24px\"viewBox=\"0 0 24 24\"\n",
              "       width=\"24px\">\n",
              "    <path d=\"M0 0h24v24H0V0z\" fill=\"none\"/>\n",
              "    <path d=\"M18.56 5.44l.94 2.06.94-2.06 2.06-.94-2.06-.94-.94-2.06-.94 2.06-2.06.94zm-11 1L8.5 8.5l.94-2.06 2.06-.94-2.06-.94L8.5 2.5l-.94 2.06-2.06.94zm10 10l.94 2.06.94-2.06 2.06-.94-2.06-.94-.94-2.06-.94 2.06-2.06.94z\"/><path d=\"M17.41 7.96l-1.37-1.37c-.4-.4-.92-.59-1.43-.59-.52 0-1.04.2-1.43.59L10.3 9.45l-7.72 7.72c-.78.78-.78 2.05 0 2.83L4 21.41c.39.39.9.59 1.41.59.51 0 1.02-.2 1.41-.59l7.78-7.78 2.81-2.81c.8-.78.8-2.07 0-2.86zM5.41 20L4 18.59l7.72-7.72 1.47 1.35L5.41 20z\"/>\n",
              "  </svg>\n",
              "      </button>\n",
              "      \n",
              "  <style>\n",
              "    .colab-df-container {\n",
              "      display:flex;\n",
              "      flex-wrap:wrap;\n",
              "      gap: 12px;\n",
              "    }\n",
              "\n",
              "    .colab-df-convert {\n",
              "      background-color: #E8F0FE;\n",
              "      border: none;\n",
              "      border-radius: 50%;\n",
              "      cursor: pointer;\n",
              "      display: none;\n",
              "      fill: #1967D2;\n",
              "      height: 32px;\n",
              "      padding: 0 0 0 0;\n",
              "      width: 32px;\n",
              "    }\n",
              "\n",
              "    .colab-df-convert:hover {\n",
              "      background-color: #E2EBFA;\n",
              "      box-shadow: 0px 1px 2px rgba(60, 64, 67, 0.3), 0px 1px 3px 1px rgba(60, 64, 67, 0.15);\n",
              "      fill: #174EA6;\n",
              "    }\n",
              "\n",
              "    [theme=dark] .colab-df-convert {\n",
              "      background-color: #3B4455;\n",
              "      fill: #D2E3FC;\n",
              "    }\n",
              "\n",
              "    [theme=dark] .colab-df-convert:hover {\n",
              "      background-color: #434B5C;\n",
              "      box-shadow: 0px 1px 3px 1px rgba(0, 0, 0, 0.15);\n",
              "      filter: drop-shadow(0px 1px 2px rgba(0, 0, 0, 0.3));\n",
              "      fill: #FFFFFF;\n",
              "    }\n",
              "  </style>\n",
              "\n",
              "      <script>\n",
              "        const buttonEl =\n",
              "          document.querySelector('#df-b9d12229-5f6f-4002-a0ea-4e5f777be866 button.colab-df-convert');\n",
              "        buttonEl.style.display =\n",
              "          google.colab.kernel.accessAllowed ? 'block' : 'none';\n",
              "\n",
              "        async function convertToInteractive(key) {\n",
              "          const element = document.querySelector('#df-b9d12229-5f6f-4002-a0ea-4e5f777be866');\n",
              "          const dataTable =\n",
              "            await google.colab.kernel.invokeFunction('convertToInteractive',\n",
              "                                                     [key], {});\n",
              "          if (!dataTable) return;\n",
              "\n",
              "          const docLinkHtml = 'Like what you see? Visit the ' +\n",
              "            '<a target=\"_blank\" href=https://colab.research.google.com/notebooks/data_table.ipynb>data table notebook</a>'\n",
              "            + ' to learn more about interactive tables.';\n",
              "          element.innerHTML = '';\n",
              "          dataTable['output_type'] = 'display_data';\n",
              "          await google.colab.output.renderOutput(dataTable, element);\n",
              "          const docLink = document.createElement('div');\n",
              "          docLink.innerHTML = docLinkHtml;\n",
              "          element.appendChild(docLink);\n",
              "        }\n",
              "      </script>\n",
              "    </div>\n",
              "  </div>\n",
              "  "
            ]
          },
          "metadata": {},
          "execution_count": 15
        }
      ]
    }
  ]
}